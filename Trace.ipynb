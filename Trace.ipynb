{
  "nbformat": 4,
  "nbformat_minor": 0,
  "metadata": {
    "colab": {
      "provenance": [],
      "authorship_tag": "ABX9TyPL01/XLV8wI/1vAztQ0/or",
      "include_colab_link": true
    },
    "kernelspec": {
      "name": "python3",
      "display_name": "Python 3"
    },
    "language_info": {
      "name": "python"
    }
  },
  "cells": [
    {
      "cell_type": "markdown",
      "metadata": {
        "id": "view-in-github",
        "colab_type": "text"
      },
      "source": [
        "<a href=\"https://colab.research.google.com/github/AhmedCode99/TraceOfArrayCode/blob/main/Trace.ipynb\" target=\"_parent\"><img src=\"https://colab.research.google.com/assets/colab-badge.svg\" alt=\"Open In Colab\"/></a>"
      ]
    },
    {
      "cell_type": "code",
      "source": [
        "mat = [[2,1,1],[1,3,1],[1,1,4]] # Insert the matrix"
      ],
      "metadata": {
        "id": "xRU4J7AvNSqY"
      },
      "execution_count": 37,
      "outputs": []
    },
    {
      "cell_type": "code",
      "source": [
        "# Calculating Trace Using EinSum\n",
        "\n",
        "import numpy as np\n",
        "\n",
        "trace = np.einsum('ii', mat)\n",
        "\n",
        "print(\"Trace of the matrix:\", trace)\n"
      ],
      "metadata": {
        "colab": {
          "base_uri": "https://localhost:8080/"
        },
        "id": "_W52ORHcjdtY",
        "outputId": "4b10580d-349c-46ab-c53f-7520c7e8764b"
      },
      "execution_count": 41,
      "outputs": [
        {
          "output_type": "stream",
          "name": "stdout",
          "text": [
            "Trace of the matrix: 9\n"
          ]
        }
      ]
    },
    {
      "cell_type": "code",
      "source": [
        "# Calculating Trace Using Numpy\n",
        "import numpy as np\n",
        "trace = np.trace(mat)\n",
        "print(trace)"
      ],
      "metadata": {
        "colab": {
          "base_uri": "https://localhost:8080/"
        },
        "id": "YthkKcm6PBjW",
        "outputId": "9415e43c-eb57-4c00-bc44-88410308d4ab"
      },
      "execution_count": 38,
      "outputs": [
        {
          "output_type": "stream",
          "name": "stdout",
          "text": [
            "9\n"
          ]
        }
      ]
    },
    {
      "cell_type": "code",
      "source": [
        "# Calculating Trace Using List Comprehension\n",
        "\n",
        "trace = sum(mat[i][i] for i in range(len(mat)))\n",
        "print(trace)"
      ],
      "metadata": {
        "colab": {
          "base_uri": "https://localhost:8080/"
        },
        "id": "1UAHZT5nQgD1",
        "outputId": "85148c84-a7c5-40b1-eb3d-911dc63d0b97"
      },
      "execution_count": 20,
      "outputs": [
        {
          "output_type": "stream",
          "name": "stdout",
          "text": [
            "9\n"
          ]
        }
      ]
    },
    {
      "cell_type": "code",
      "source": [
        "#Calculating Trace using For Loop\n",
        "trace = 0\n",
        "for j in range(len(mat)):\n",
        "  trace = trace + mat[j][j]\n",
        "\n",
        "print(trace)"
      ],
      "metadata": {
        "colab": {
          "base_uri": "https://localhost:8080/"
        },
        "id": "RUnpJqlLQzYu",
        "outputId": "37404bee-6ed2-4b41-e72f-2193e142234e"
      },
      "execution_count": 19,
      "outputs": [
        {
          "output_type": "stream",
          "name": "stdout",
          "text": [
            "9\n"
          ]
        }
      ]
    },
    {
      "cell_type": "code",
      "source": [
        "#Calculating Trace using While Loop\n",
        "\n",
        "trace = 0\n",
        "i=0\n",
        "\n",
        "while i < len(mat):\n",
        "  trace = trace + mat[i][i]\n",
        "  i=i+1\n",
        "\n",
        "print(trace)"
      ],
      "metadata": {
        "colab": {
          "base_uri": "https://localhost:8080/"
        },
        "id": "4yA_qlaZRp5U",
        "outputId": "fb612f4c-fce7-4406-a755-b2dc9fd05feb"
      },
      "execution_count": 27,
      "outputs": [
        {
          "output_type": "stream",
          "name": "stdout",
          "text": [
            "9\n"
          ]
        }
      ]
    },
    {
      "cell_type": "code",
      "source": [
        "# Calculating Trace using SymPy\n",
        "\n",
        "from sympy import Matrix\n",
        "\n",
        "matrix = Matrix(mat)\n",
        "\n",
        "trace = matrix.trace()\n",
        "\n",
        "print(trace)"
      ],
      "metadata": {
        "colab": {
          "base_uri": "https://localhost:8080/"
        },
        "id": "0XZtHaJgTCLC",
        "outputId": "6e1b6a82-818e-4ad1-cda7-8a072529b160"
      },
      "execution_count": 36,
      "outputs": [
        {
          "output_type": "stream",
          "name": "stdout",
          "text": [
            "9\n"
          ]
        }
      ]
    },
    {
      "cell_type": "code",
      "source": [
        "matrix = [[1, 2, 3],\n",
        "                   [4, 5, 6],\n",
        "                   [7, 8, 9]]\n",
        "\n"
      ],
      "metadata": {
        "colab": {
          "base_uri": "https://localhost:8080/"
        },
        "id": "GDa4-mAwVFsD",
        "outputId": "d3aae58d-d168-4b16-fca2-53439ff5b60a"
      },
      "execution_count": 40,
      "outputs": [
        {
          "output_type": "stream",
          "name": "stdout",
          "text": [
            "Trace of the matrix: 9\n"
          ]
        }
      ]
    },
    {
      "cell_type": "code",
      "source": [],
      "metadata": {
        "id": "_P9ia46GjZcw"
      },
      "execution_count": null,
      "outputs": []
    }
  ]
}