{
  "nbformat": 4,
  "nbformat_minor": 0,
  "metadata": {
    "colab": {
      "provenance": [],
      "authorship_tag": "ABX9TyPaCg0gdzgsHE9Xt0+5YTEf",
      "include_colab_link": true
    },
    "kernelspec": {
      "name": "python3",
      "display_name": "Python 3"
    },
    "language_info": {
      "name": "python"
    }
  },
  "cells": [
    {
      "cell_type": "markdown",
      "metadata": {
        "id": "view-in-github",
        "colab_type": "text"
      },
      "source": [
        "<a href=\"https://colab.research.google.com/github/AhmedCode99/TraceOfArrayCode/blob/main/TraceSquareCheck.ipynb\" target=\"_parent\"><img src=\"https://colab.research.google.com/assets/colab-badge.svg\" alt=\"Open In Colab\"/></a>"
      ]
    },
    {
      "cell_type": "code",
      "source": [
        "import numpy as np\n",
        "\n",
        "mat = [[2,1,1],[1,3,1],[1,1,4]] # Insert a square matrix\n",
        "\n",
        "\n",
        "rows,columns = np.shape(mat) # Save the number of rows and columns\n",
        "\n",
        "if  rows == columns:\n",
        "\n",
        "  trace = np.einsum('ii', mat) # Calculating Trace Using EinSum\n",
        "  print(\"Trace Using EinSum = \", trace)\n",
        "\n",
        "\n",
        "  trace = np.trace(mat) # Calculating Trace Using NumPy\n",
        "  print(\"Trace Using NumPy = \", trace)\n",
        "\n",
        "\n",
        "  trace = sum(mat[i][i] for i in range(len(mat))) # Calculating Trace Using List Comprehension\n",
        "  print(\"Trace Using List Comprehension = \", trace)\n",
        "\n",
        "  #Calculating Trace using For Loop\n",
        "  trace = 0\n",
        "  for j in range(len(mat)):\n",
        "    trace = trace + mat[j][j]\n",
        "  print(\"Trace Using For Loop = \", trace)\n",
        "\n",
        "  #Calculating Trace using While Loop\n",
        "\n",
        "  trace = 0\n",
        "  i=0\n",
        "\n",
        "  while i < len(mat):\n",
        "    trace = trace + mat[i][i]\n",
        "    i=i+1\n",
        "\n",
        "  print(\"Trace Using While Loop = \", trace)\n",
        "\n",
        "\n",
        "  # Calculating Trace using SymPy\n",
        "\n",
        "  from sympy import Matrix\n",
        "\n",
        "  matrix = Matrix(mat)\n",
        "\n",
        "  trace = matrix.trace()\n",
        "\n",
        "  print(\"Trace Using SymPy = \", trace)\n",
        "\n",
        "\n",
        "else:\n",
        "    print(\"The Matrix You Inserted Is Not Square. The Trace Operator is Only Defined For Square Matrices. Please Insert A Square Matrix\")"
      ],
      "metadata": {
        "id": "xRU4J7AvNSqY",
        "colab": {
          "base_uri": "https://localhost:8080/"
        },
        "outputId": "da59c652-4a24-458c-d860-97760d9c6f4a"
      },
      "execution_count": 19,
      "outputs": [
        {
          "output_type": "stream",
          "name": "stdout",
          "text": [
            "Trace Using EinSum =  9\n",
            "Trace Using NumPy =  9\n",
            "Trace Using List Comprehension =  9\n",
            "Trace Using For Loop =  9\n",
            "Trace Using While Loop =  9\n",
            "Trace Using SymPy =  9\n"
          ]
        }
      ]
    }
  ]
}